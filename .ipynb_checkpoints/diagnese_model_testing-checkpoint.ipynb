{
 "cells": [
  {
   "cell_type": "markdown",
   "id": "2f445dce",
   "metadata": {},
   "source": [
    "# Diagnese Model Testing"
   ]
  },
  {
   "cell_type": "markdown",
   "id": "0b71a89e",
   "metadata": {},
   "source": [
    "## A. Summary & How to Use\n",
    "This document is to show the testing predict results of the h5 model using \"Testing.csv\"."
   ]
  },
  {
   "cell_type": "markdown",
   "id": "34d8f0e6",
   "metadata": {},
   "source": [
    "## B. How to use H5 model?\n",
    "### i. Data Processing\n",
    "1. Load **\"Testing.csv\"** dataset using 'pandas'.\n",
    "2. Separate the **feature** column (x) and the **target/label** column (y). Feature column is the **symptoms** starting from column 1-131, while Label is in the 132 column named **prognosis** on **Testing.csv**\n",
    "3. Convert label into numeric using `LabelEncoder` from **Scikit-Learn**\n",
    "4. Load **\"Deskripsi_dan_Dokter.csv\"** using `csv`.\n",
    "\n",
    "### ii. Load hdf5 Model\n",
    "Load `h5` model from **Model h5** folder.\n",
    "\n",
    "### iii. Predict Model\n",
    "Define loop get 41 row of dataset as input, then predict into the model `h5` loaded. \n",
    " "
   ]
  },
  {
   "cell_type": "markdown",
   "id": "004efd6e",
   "metadata": {},
   "source": [
    "## C. Data Processing\n",
    "This data processing uses **\"Testing.csv\"** as input for prediction and **\"Description_and_Doctor.csv\"** as a condition that retrieves the model prediction results.\n",
    "### i. Import Libraries\n",
    "We use import to load libraries. The libraries we needed are:\n",
    "\n",
    "- TensorFlow\n",
    "- Pandas\n",
    "- Numpy\n",
    "- Csv"
   ]
  },
  {
   "cell_type": "code",
   "execution_count": 18,
   "id": "59c46c4d",
   "metadata": {},
   "outputs": [],
   "source": [
    "import tensorflow as tf\n",
    "import pandas as pd\n",
    "import numpy as np\n",
    "import csv\n",
    "\n",
    "from sklearn.preprocessing import LabelEncoder\n",
    "\n",
    "from keras.models import load_model"
   ]
  },
  {
   "cell_type": "markdown",
   "id": "e61b1e58",
   "metadata": {},
   "source": [
    "### ii. Load Dataset\n",
    "Load datasets **\"Testing.csv\"** and using `Pandas` from Dataset folder **\"Deskripsi_and_Dokter\"** using `csv`."
   ]
  },
  {
   "cell_type": "code",
   "execution_count": 25,
   "id": "696fa897",
   "metadata": {},
   "outputs": [],
   "source": [
    "test_df = pd.read_csv('Dataset/Testing.csv', header=0, delimiter=';')"
   ]
  },
  {
   "cell_type": "markdown",
   "id": "aadc93ba",
   "metadata": {},
   "source": [
    "### iii. Seperate Feature and Label\n",
    "Separate feature and label from dataset using `drop` method. The target label of dataset is **prognosis** column."
   ]
  },
  {
   "cell_type": "code",
   "execution_count": 6,
   "id": "7be89cd5",
   "metadata": {},
   "outputs": [],
   "source": [
    "X_test = test_df.drop('prognosis', axis=1)  # Features\n",
    "y_test = test_df['prognosis']  # Target variable"
   ]
  },
  {
   "cell_type": "markdown",
   "id": "595e0125",
   "metadata": {},
   "source": [
    "### iv. Label Encoder\n",
    "Convert label y into numeric using `LabelEncoder` from **Scikit-Learn**.\n",
    "\n",
    "Label y (prognosis) at **\"Testing.csv** has a string datatype then needed convert to numeric before before entering the model prediction.\n",
    "\n",
    "Then use `classes` method for show list of encoded."
   ]
  },
  {
   "cell_type": "code",
   "execution_count": 8,
   "id": "1f968fb0",
   "metadata": {},
   "outputs": [],
   "source": [
    "# Make object LabelEncoder\n",
    "label_encoder = LabelEncoder()\n",
    "\n",
    "# Convert to Numeric\n",
    "y_test_encoded = label_encoder.fit_transform(y_test)"
   ]
  },
  {
   "cell_type": "code",
   "execution_count": 9,
   "id": "ab473333",
   "metadata": {},
   "outputs": [
    {
     "data": {
      "text/plain": [
       "['AIDS',\n",
       " 'Alergi',\n",
       " 'Artritis',\n",
       " 'Asma Bronkial',\n",
       " 'Cacar air',\n",
       " 'Demam berdarah',\n",
       " 'Diabetes',\n",
       " 'GERD',\n",
       " 'Gastroenteritis',\n",
       " 'Hemoroid dimorfik (ambeien)',\n",
       " 'Hepatitis A',\n",
       " 'Hepatitis Alkoholik',\n",
       " 'Hepatitis B',\n",
       " 'Hepatitis C',\n",
       " 'Hepatitis D',\n",
       " 'Hepatitis E',\n",
       " 'Hipertensi',\n",
       " 'Hipertiroidisme',\n",
       " 'Hipoglikemia',\n",
       " 'Hipotiroidisme',\n",
       " 'Impetigo',\n",
       " 'Infeksi jamur',\n",
       " 'Infeksi saluran kemih',\n",
       " 'Jerawat',\n",
       " 'Kolestasis kronis',\n",
       " 'Kuning (penyakit kuning)',\n",
       " 'Malaria',\n",
       " 'Migraine',\n",
       " 'Osteoartritis',\n",
       " 'Paralisis (pendarahan otak)',\n",
       " 'Penyakit ulkus peptikum',\n",
       " 'Pilek biasa',\n",
       " 'Pneumonia',\n",
       " 'Psoriasis',\n",
       " 'Reaksi obat',\n",
       " 'Serangan jantung',\n",
       " 'Spondilosis Serviks',\n",
       " 'Tuberculosis',\n",
       " 'Typus',\n",
       " 'Varises',\n",
       " 'Vertigo Posisional Paroksismal']"
      ]
     },
     "execution_count": 9,
     "metadata": {},
     "output_type": "execute_result"
    }
   ],
   "source": [
    "# Show list of encoded\n",
    "list(label_encoder.classes_)"
   ]
  },
  {
   "cell_type": "markdown",
   "id": "ef1b9d87",
   "metadata": {},
   "source": [
    "### v. Make summary for each feature with value 1 \n",
    "This step is to gain any feature that has label 1 for each label y."
   ]
  },
  {
   "cell_type": "code",
   "execution_count": 13,
   "id": "7b001610",
   "metadata": {},
   "outputs": [
    {
     "name": "stdout",
     "output_type": "stream",
     "text": [
      "1.Vertigo Posisional Paroksismal : \n",
      "    Classes with value 1 - muntah, sakit_kepala, mual, kaku_saat_ingin_bergerak, sensasi_berputar, kehilangan_keseimbangan\n",
      "2.Jerawat : \n",
      "    Classes with value 1 - ruam_kulit, jerawat_bernanah, komedo, menggaruk\n",
      "3.AIDS : \n",
      "    Classes with value 1 - otot_mengecil, bercak_di_tenggorokan, demam_tinggi, rasa_lapar_berlebihan\n",
      "4.Hepatitis Alkoholik : \n",
      "    Classes with value 1 - muntah, kulit_kekuningan, nyeri_perut, kelebihan_cairan, pendarahan_perut, perut_kembung, riwayat_konsumsi_alkohol\n",
      "5.Alergi : \n",
      "    Classes with value 1 - bersin-bersin, menggigil, merinding, perubahan_warna_kulit_di_area_tertentu\n",
      "6.Artritis : \n",
      "    Classes with value 1 - nyeri_sendi_panggul, otot_melemah, leher_kaku, pembengkakan_sendi, nyeri_saat_berjalan\n",
      "7.Asma Bronkial : \n",
      "    Classes with value 1 - kelelahan, batuk, demam_tinggi, sesak_napas, air_kencing_berlebih, penyakit_keturunan\n",
      "8.Spondilosis Serviks : \n",
      "    Classes with value 1 - sakit_punggung, nyeri_dada, iritasi_di_anus, nyeri_leher, sensasi_berputar\n",
      "9.Cacar air : \n",
      "    Classes with value 1 - gatal, ruam_kulit, kelelahan, tidak_berenergi/lethargy, demam_tinggi, sakit_kepala, nafsu_makan_hilang, demam_ringan, pembengkakan_perut, kelenjar_getah_bening_membengkak, perubahan_sensorium\n",
      "10.Kolestasis kronis : \n",
      "    Classes with value 1 - gatal, muntah, kulit_kekuningan, mual, nafsu_makan_hilang, nyeri_perut, menguningnya_mata\n",
      "11.Pilek biasa : \n",
      "    Classes with value 1 - bersin-bersin, merinding, kelelahan, batuk, demam_tinggi, sakit_kepala, pembengkakan_perut, kelenjar_getah_bening_membengkak, penglihatan_kabur_dan_terdistorsi, dahak, iritasi_tenggorokan, mata_merah, tekanan_sinus, hidung_berair, hidung_tersumbat, satu_sisi_tubuh_melemah, mudah_tersinggung\n",
      "12.Demam berdarah : \n",
      "    Classes with value 1 - ruam_kulit, merinding, nyeri_sendi, muntah, kelelahan, demam_tinggi, sakit_kepala, mual, nafsu_makan_hilang, nyeri_dibelakang_mata, sakit_punggung, kelenjar_getah_bening_membengkak, mudah_tersinggung, perubahan_sensorium\n",
      "13.Diabetes : \n",
      "    Classes with value 1 - kelelahan, penurunan_berat_badan, restlessness/gelisah, tidak_berenergi/lethargy, kadar_gula_tidak_teratur, tidak_enak_badan, memar, bengkak_ekstremitas, air_mata_berlebih, peningkatan_nafsu_makan\n",
      "14.Hemoroid dimorfik (ambeien) : \n",
      "    Classes with value 1 - sembelit, jantung_berdetak_cepat, nyeri_saat_buang_air_besar, nyeri_di_daerah_anus, tinja_berdarah\n",
      "15.Reaksi obat : \n",
      "    Classes with value 1 - gatal, ruam_kulit, sakit_perut, panas_saat_buang_air_kecil, keluar_darah_buang_air_kecil\n",
      "16.Infeksi jamur : \n",
      "    Classes with value 1 - gatal, ruam_kulit, benjolan_pada_kulit, menstruasi_yang_tidak_normal\n",
      "17.Gastroenteritis : \n",
      "    Classes with value 1 - muntah, mata_cekung, dehidrasi, diare\n",
      "18.GERD : \n",
      "    Classes with value 1 - sakit_perut, asam_lambung, sariawan, muntah, batuk, hidung_tersumbat\n",
      "19.Serangan jantung : \n",
      "    Classes with value 1 - muntah, sesak_napas, berkeringat, hidung_tersumbat\n",
      "20.Hepatitis A : \n",
      "    Classes with value 1 - nyeri_sendi, muntah, kulit_kekuningan, urine_berwarna_gelap, mual, nafsu_makan_hilang, nyeri_perut, diare, demam_ringan, menguningnya_mata, mudah_tersinggung\n",
      "21.Hepatitis B : \n",
      "    Classes with value 1 - gatal, kelelahan, tidak_berenergi/lethargy, kulit_kekuningan, urine_berwarna_gelap, nafsu_makan_hilang, nyeri_perut, urine_menguning, menguningnya_mata, kelenjar_getah_bening_membengkak, gangguan_penglihatan, menerima_transfusi_darah\n",
      "22.Hepatitis C : \n",
      "    Classes with value 1 - kelelahan, kulit_kekuningan, mual, nafsu_makan_hilang, menguningnya_mata, air_kencing_berlebih\n",
      "23.Hepatitis D : \n",
      "    Classes with value 1 - nyeri_sendi, muntah, kelelahan, kulit_kekuningan, urine_berwarna_gelap, mual, nafsu_makan_hilang, nyeri_perut, menguningnya_mata\n",
      "24.Hepatitis E : \n",
      "    Classes with value 1 - nyeri_sendi, muntah, kelelahan, demam_tinggi, kulit_kekuningan, urine_berwarna_gelap, mual, nafsu_makan_hilang, nyeri_perut, menguningnya_mata, gagal_hati_akut, menerima_suntikan_yang_tidak_steril, koma\n",
      "25.Hipertensi : \n",
      "    Classes with value 1 - sakit_kepala, hidung_tersumbat, nyeri_leher, sensasi_berputar, dahak_sputum\n",
      "26.Hipertiroidisme : \n",
      "    Classes with value 1 - kelelahan, perubahan_suasana_hati, penurunan_berat_badan, restlessness/gelisah, berkeringat, diare, anggota_tubuh_melemah, bengkak_ekstremitas, nyeri_sendi_panggul, depresi, sakit_perut.1\n",
      "27.Hipoglikemia : \n",
      "    Classes with value 1 - muntah, kelelahan, anxiety, berkeringat, sakit_kepala, mual, tidak_enak_badan, bengkak_ekstremitas, berhubungan_diluar_nikah, bibir_kering_dan_kesemutan, depresi, jantung_berdebar\n",
      "28.Hipotiroidisme : \n",
      "    Classes with value 1 - kelelahan, kenaikan_berat_badan, tangan_dan_kaki_dingin, perubahan_suasana_hati, tidak_berenergi/lethargy, nyeri_leher, pembuluh_darah_bengkak, wajah_dan_mata_bengkak, pembesaran_tiroid, kuku_rapuh, demam_tifoid_(typhos/tifus), depresi, sakit_perut.1\n",
      "29.Impetigo : \n",
      "    Classes with value 1 - ruam_kulit, demam_tinggi, kulit_melepuh, luka_merah_di_sekitar_hidung, bekas_luka_berair\n",
      "30.Kuning (penyakit kuning) : \n",
      "    Classes with value 1 - gatal, muntah, kelelahan, penurunan_berat_badan, demam_tinggi, kulit_kekuningan, urine_berwarna_gelap, nyeri_perut\n",
      "31.Malaria : \n",
      "    Classes with value 1 - merinding, muntah, demam_tinggi, berkeringat, sakit_kepala, mual, diare, mudah_tersinggung\n",
      "32.Migraine : \n",
      "    Classes with value 1 - asam_lambung, gangguan_pencernaan, sakit_kepala, tidak_enak_badan, bengkak_ekstremitas, otot_melemah, demam_tifoid_(typhos/tifus), depresi, kurangnya_konsentrasi\n",
      "33.Osteoartritis : \n",
      "    Classes with value 1 - nyeri_sendi, iritasi_di_anus, ucapan_tidak_jelas, nyeri_lutut, leher_kaku, nyeri_saat_berjalan\n",
      "34.Paralisis (pendarahan otak) : \n",
      "    Classes with value 1 - muntah, sakit_kepala, goyah, nyeri_otot\n",
      "35.Penyakit ulkus peptikum : \n",
      "    Classes with value 1 - muntah, gangguan_pencernaan, nafsu_makan_hilang, nyeri_perut, ingin_buang_air_kecil_terus, mengeluarkan_gas\n",
      "36.Pneumonia : \n",
      "    Classes with value 1 - merinding, kelelahan, batuk, demam_tinggi, sesak_napas, berkeringat, kelenjar_getah_bening_membengkak, penglihatan_kabur_dan_terdistorsi, hidung_tersumbat, anggota_tubuh_melemah, dahak_mukoid\n",
      "37.Psoriasis : \n",
      "    Classes with value 1 - ruam_kulit, nyeri_sendi, pengelupasan_kulit, kulit_bersisik, celah_kecil_pada_kuku, peradangan_kuku\n",
      "38.Tuberculosis : \n",
      "    Classes with value 1 - merinding, muntah, kelelahan, penurunan_berat_badan, batuk, demam_tinggi, sesak_napas, berkeringat, nafsu_makan_hilang, demam_ringan, menguningnya_mata, pembengkakan_perut, kelenjar_getah_bening_membengkak, penglihatan_kabur_dan_terdistorsi, hidung_tersumbat, dahak_berdarah\n",
      "39.Typus : \n",
      "    Classes with value 1 - merinding, muntah, kelelahan, demam_tinggi, sakit_kepala, mual, sembelit, nyeri_perut, diare, gatal_internal, bintik-bintik_merah_di_seluruh_tubuh\n",
      "40.Infeksi saluran kemih : \n",
      "    Classes with value 1 - panas_saat_buang_air_kecil, kehilangan_penciuman, ketidaknyamanan_kandung_kemih, bau_busuk_dari_urine\n",
      "41.Varises : \n",
      "    Classes with value 1 - kelelahan, pusing, kram, memar, obesity, kaki_bengkak, varises\n"
     ]
    }
   ],
   "source": [
    "# Summary value 1 at testing data \n",
    "for index, row in X_test.iterrows():\n",
    "    class_with_1 = ', '.join(row[row == 1].index)\n",
    "    prognosis = y_test[index]\n",
    "    print(f\"{index + 1}.{prognosis} : \\n    Classes with value 1 - {class_with_1}\")"
   ]
  },
  {
   "cell_type": "markdown",
   "id": "f79cd6e4",
   "metadata": {},
   "source": [
    "## D. Load HDF5 Model\n",
    "The `h5` model that is loaded is the best model generated by **diagnese_model.ipynb** which is then saved into the `hdf5`/`h5` format which can be used for re-training or just load to make some predictions with the model."
   ]
  },
  {
   "cell_type": "code",
   "execution_count": 10,
   "id": "0ff25cc5",
   "metadata": {},
   "outputs": [],
   "source": [
    "model = load_model('Model h5/model.h5')"
   ]
  },
  {
   "cell_type": "markdown",
   "id": "9888ca46",
   "metadata": {},
   "source": [
    "## E. Prediction with HDF5 Model\n",
    "This step is the main topic of this document. Where the `h5` model that has been loaded will be used to predict the **\"Testing.csv \"** data that has been processed previously to make predictions.\n",
    "\n",
    "### i. Making prediction \n",
    "Make prediction with each label at **Testing.csv** dataset using `loop` and `iterrows` method, find index with highest probability as a **prediction**, convert prediction from probabilitas into label with `LabelEncoder`, and last `print` result of `prediction` and compare to `actual` label to find out how many predictions are correct and how many predictions are incorrect.\n",
    "\n",
    "In this scope, with 41 prediction data **Testing.csv**, the model only predicted 2 classes **incorrectly** and was able to predict 39 classes **correctly**."
   ]
  },
  {
   "cell_type": "code",
   "execution_count": 15,
   "id": "195d54ca",
   "metadata": {},
   "outputs": [
    {
     "name": "stdout",
     "output_type": "stream",
     "text": [
      "2/2 [==============================] - 0s 0s/step\n",
      "Prediction: Vertigo Posisional Paroksismal (0.8745632767677307), Actual Label: Vertigo Posisional Paroksismal\n",
      "\n",
      "Prediction: Jerawat (0.934771716594696), Actual Label: Jerawat\n",
      "\n",
      "Prediction: AIDS (0.8159803152084351), Actual Label: AIDS\n",
      "\n",
      "Prediction: Hepatitis Alkoholik (0.9026685357093811), Actual Label: Hepatitis Alkoholik\n",
      "\n",
      "Prediction: Alergi (0.7802639603614807), Actual Label: Alergi\n",
      "\n",
      "Prediction: Artritis (0.7720317244529724), Actual Label: Artritis\n",
      "\n",
      "Prediction: Asma Bronkial (0.8591945171356201), Actual Label: Asma Bronkial\n",
      "\n",
      "Prediction: Spondilosis Serviks (0.14554649591445923), Actual Label: Spondilosis Serviks\n",
      "\n",
      "Prediction: Cacar air (0.9057180285453796), Actual Label: Cacar air\n",
      "\n",
      "Prediction: Kolestasis kronis (0.8439196944236755), Actual Label: Kolestasis kronis\n",
      "\n",
      "Prediction: Pilek biasa (0.9612761735916138), Actual Label: Pilek biasa\n",
      "\n",
      "Prediction: Demam berdarah (0.9285697340965271), Actual Label: Demam berdarah\n",
      "\n",
      "Prediction: Diabetes (0.6149367690086365), Actual Label: Diabetes\n",
      "\n",
      "Prediction: Hemoroid dimorfik (ambeien) (0.8182666897773743), Actual Label: Hemoroid dimorfik (ambeien)\n",
      "\n",
      "Prediction: Reaksi obat (0.9329694509506226), Actual Label: Reaksi obat\n",
      "\n",
      "Prediction: Infeksi jamur (0.7344256639480591), Actual Label: Infeksi jamur\n",
      "\n",
      "Prediction: Gastroenteritis (0.9296093583106995), Actual Label: Gastroenteritis\n",
      "\n",
      "Prediction: GERD (0.9341903328895569), Actual Label: GERD\n",
      "\n",
      "Prediction: Serangan jantung (0.7202593684196472), Actual Label: Serangan jantung\n",
      "\n",
      "Prediction: Hepatitis A (0.7835825085639954), Actual Label: Hepatitis A\n",
      "\n",
      "Prediction: Hepatitis B (0.7754743099212646), Actual Label: Hepatitis B\n",
      "\n",
      "Prediction: Hepatitis C (0.6646696329116821), Actual Label: Hepatitis C\n",
      "\n",
      "Prediction: Hepatitis D (0.8217368125915527), Actual Label: Hepatitis D\n",
      "\n",
      "Prediction: Hepatitis E (0.7750773429870605), Actual Label: Hepatitis E\n",
      "\n",
      "Prediction: Vertigo Posisional Paroksismal (0.11932642012834549), Actual Label: Hipertensi\n",
      "\n",
      "Prediction: Hipertiroidisme (0.7258034348487854), Actual Label: Hipertiroidisme\n",
      "\n",
      "Prediction: Hipoglikemia (0.7416824102401733), Actual Label: Hipoglikemia\n",
      "\n",
      "Prediction: Hipotiroidisme (0.8693526387214661), Actual Label: Hipotiroidisme\n",
      "\n",
      "Prediction: Impetigo (0.9746845364570618), Actual Label: Impetigo\n",
      "\n",
      "Prediction: Kuning (penyakit kuning) (0.9707891941070557), Actual Label: Kuning (penyakit kuning)\n",
      "\n",
      "Prediction: Malaria (0.8766311407089233), Actual Label: Malaria\n",
      "\n",
      "Prediction: Migraine (0.47559261322021484), Actual Label: Migraine\n",
      "\n",
      "Prediction: Osteoartritis (0.5569162964820862), Actual Label: Osteoartritis\n",
      "\n",
      "Prediction: Vertigo Posisional Paroksismal (0.3039937913417816), Actual Label: Paralisis (pendarahan otak)\n",
      "\n",
      "Prediction: Penyakit ulkus peptikum (0.8609774112701416), Actual Label: Penyakit ulkus peptikum\n",
      "\n",
      "Prediction: Pneumonia (0.37827610969543457), Actual Label: Pneumonia\n",
      "\n",
      "Prediction: Psoriasis (0.9748203754425049), Actual Label: Psoriasis\n",
      "\n",
      "Prediction: Tuberculosis (0.9693217277526855), Actual Label: Tuberculosis\n",
      "\n",
      "Prediction: Typus (0.7628105282783508), Actual Label: Typus\n",
      "\n",
      "Prediction: Infeksi saluran kemih (0.8603591322898865), Actual Label: Infeksi saluran kemih\n",
      "\n",
      "Prediction: Varises (0.9563305377960205), Actual Label: Varises\n",
      "\n"
     ]
    }
   ],
   "source": [
    "# Melakukan prediksi menggunakan model\n",
    "predictions_test_prob = model.predict(X_test)\n",
    "for index, row in X_test.iterrows():\n",
    "    input_data = row # Retrieving input data from each row\n",
    "    prediction_prob = predictions_test_prob[index] # Retrieving prediction probabilities for the input data\n",
    "    max_prob_index = np.argmax(prediction_prob) # Finding the index of the highest probability\n",
    "    max_prob_label = label_encoder.classes_[max_prob_index] # Finding the label with the highest probability\n",
    "    max_prob = prediction_prob[max_prob_index] # Retrieving the highest probability\n",
    "    actual_label = y_test[index] # Retrieving the actual label from y_test\n",
    "    print(f\"Prediction: {max_prob_label} ({max_prob}), Actual Label: {actual_label}\\n\")\n",
    "    #print(f\"Input: {input_data}, Prediction: {max_prob_label} ({max_prob}), Actual Label: {actual_label}\")\n",
    "    #print(f\"Input: {input_data}, Prediction: {max_prob_label}, Actual Label: {actual_label}\")"
   ]
  },
  {
   "cell_type": "markdown",
   "id": "51226597",
   "metadata": {},
   "source": [
    "### ii. Get Prediction with Description and Specialist\n",
    "Here the model will predict the index of the desired `X_test` as input, then take the conditioning based on the prediction output to retrieve the descriptions and specialty doctors in the **\"Deskripsi_dan_Dokter.csv \"** dataset.\n",
    "1. Make a Function to Returns the description and specialist of the doctor based on the disease prediction.\n",
    "2. To retrieve input data from **\"Testing.csv \"** with the desired index, you can use the `iloc` method then input what index is used for prediction.\n",
    "3. Find index with highest probability as a prediction, convert prediction from probabilitas into label with `LabelEncoder`, and last `print` result of `prognosis` and compare `deskripsi` and `dokter_spesialist` appropriate.\n",
    "\n",
    "In this scope, the function can provide the correct `deskripsi` and `dokter_spesialis` based on the `prognosis`."
   ]
  },
  {
   "cell_type": "code",
   "execution_count": 26,
   "id": "bda9ff48",
   "metadata": {},
   "outputs": [],
   "source": [
    "def deskripsi_dan_dokter(prediksi):\n",
    "    \"\"\"\n",
    "    Returns the description and specialist of the doctor based on the disease prediction.\n",
    "\n",
    "    Parameters:\n",
    "    - prediction (str): Disease prediction based on the model.\n",
    "\n",
    "    Returns:\n",
    "    - deskripsi (str): Description of the disease that matches the prediction.\n",
    "    - dokter_spesialis (str): The specialist of the doctor that matches the prediction.\n",
    "\n",
    "    If the disease prediction is found in the file 'Description_and_Doctor.csv', the\n",
    "    function will return the description and specialist of the corresponding doctor.\n",
    "    If the prediction is not found, then the function will return the message \"Disease not recognized\"\n",
    "    and \"No corresponding specialist\".\n",
    "    \"\"\"\n",
    "\n",
    "    with open('Deskripsi_dan_Dokter.csv') as file:\n",
    "        prognosis = csv.DictReader(file)\n",
    "        for row in prognosis:\n",
    "            if row['Prognosis'] == prediksi:\n",
    "                return row['Deskripsi'], row['Spesialis']\n",
    "\n",
    "    return \"Penyakit tidak dikenali\", \"Tidak ada spesialis yang sesuai\"\n"
   ]
  },
  {
   "cell_type": "code",
   "execution_count": 24,
   "id": "4c57610c",
   "metadata": {},
   "outputs": [
    {
     "name": "stdout",
     "output_type": "stream",
     "text": [
      "1/1 [==============================] - 0s 23ms/step\n",
      "Prognosis Anda adalah: Malaria \n",
      "Malaria adalah Penyakit yang disebabkan oleh parasit Plasmodium yang ditularkan melalui gigitan nyamuk Anopheles. \n",
      "Anda kami sarankan untuk mengunjungi Spesialis Penyakit Infeksi terdekat\n"
     ]
    }
   ],
   "source": [
    "#contoh input \n",
    "input_data = X_test.iloc[30]\n",
    "\n",
    "# Mengubah input data menjadi bentuk yang sesuai untuk prediksi\n",
    "input_data = np.array([input_data])\n",
    "\n",
    "predictions_prob = model.predict(input_data)\n",
    "max_prob_index = np.argmax(predictions_prob)  # Menemukan indeks probabilitas tertinggi\n",
    "max_prob_label = label_encoder.classes_[max_prob_index]  # Menemukan label kelas dengan probabilitas tertinggi\n",
    "#print(\"Prognosis:\", max_prob_label)\n",
    "\n",
    "# Contoh penggunaan\n",
    "prediksi = max_prob_label\n",
    "deskripsi, dokter_spesialis = deskripsi_dan_dokter(prediksi)\n",
    "\n",
    "#print(\"Deskripsi:\", deskripsi)\n",
    "#print(\"Rekomendasi dokter: Dokter\", dokter_spesialis)\n",
    "\n",
    "print(f\"Prognosis Anda adalah: {prediksi} \\n{prediksi} adalah {deskripsi} \\nAnda kami sarankan untuk mengunjungi {dokter_spesialis} terdekat\")"
   ]
  },
  {
   "cell_type": "markdown",
   "id": "995fb6c7",
   "metadata": {},
   "source": [
    "## F. Conclusion\n",
    "The `h5` model that has been created is **very good**, based on the results of testing each column which only gets **2 incorrect predictions** from 41 input data and then can provide `Deskripsi` and recommendations for `Dokter Spesialis` **correctly**, it can be concluded that the existing h5 model is **ready for use**."
   ]
  }
 ],
 "metadata": {
  "kernelspec": {
   "display_name": "Python 3 (ipykernel)",
   "language": "python",
   "name": "python3"
  },
  "language_info": {
   "codemirror_mode": {
    "name": "ipython",
    "version": 3
   },
   "file_extension": ".py",
   "mimetype": "text/x-python",
   "name": "python",
   "nbconvert_exporter": "python",
   "pygments_lexer": "ipython3",
   "version": "3.10.9"
  }
 },
 "nbformat": 4,
 "nbformat_minor": 5
}
