{
 "cells": [
  {
   "cell_type": "markdown",
   "id": "c864ba4b",
   "metadata": {},
   "source": [
    "# Modelling Diagnese "
   ]
  },
  {
   "cell_type": "markdown",
   "id": "414710ed",
   "metadata": {},
   "source": [
    "## A. Summary & How to Use\n",
    "This model is used to classify disease types based on 131 types of symptoms and then the user inputs what symptoms the user feels. Using this model, this model can predict about 41 types of diseases in the dataset."
   ]
  },
  {
   "cell_type": "markdown",
   "id": "75392474",
   "metadata": {},
   "source": [
    "## B. How to Make the Model?"
   ]
  },
  {
   "cell_type": "markdown",
   "id": "905569e5",
   "metadata": {},
   "source": [
    "### i. Data Pre-processing"
   ]
  },
  {
   "cell_type": "markdown",
   "id": "1341bed3",
   "metadata": {},
   "source": [
    "1. Load datasets from **\"Training.csv\"** and **\"Testing.csv\"** using Pandas from **Dataset** folder.\n",
    "2. Checking structur of data to gain an initial understanding of our **\"Training.csv\"** and **\"Testing.csv\"** dataset.\n",
    "3. Examine the DataFrame for the data shape dimensions of the datasets **\"Training.csv\"** and **\"Testing.csv\"** using Pandas.\n",
    "4. Checks empty cell of our **\"Training.csv\"** and **\"Testing.csv\"** datasets for make sure our dataset columns that do not have values using Pandas.\n",
    "5. Check the prognosis column which will be the label/target y to find out how many types of data each disease has."
   ]
  },
  {
   "cell_type": "markdown",
   "id": "d5e5066b",
   "metadata": {},
   "source": [
    "### ii. Data Preparation for Modelling"
   ]
  },
  {
   "cell_type": "markdown",
   "id": "3df18102",
   "metadata": {},
   "source": [
    "1. Separate the **feature** column (x) and the **target/label** column (y). Feature column is the **symptoms** starting from column 1-131, while Label is in the 132 column named **prognosis** on **\"Training.csv\"** and **\"Testing.csv\"** dataset.\n",
    "2. Split dataset **\"Training.csv\"** for 2 usage, there is **80%** proportion of data used for **training** and **20%** proportion of data for **validation**.\n",
    "3. **Label** y has a string data type, it needs to be converted to numeric with `LabelEncoder` using **Scikit-Learn**."
   ]
  },
  {
   "cell_type": "markdown",
   "id": "ad85dc37",
   "metadata": {},
   "source": [
    "### iii. Modelling Process"
   ]
  },
  {
   "cell_type": "markdown",
   "id": "c3303695",
   "metadata": {},
   "source": [
    "1. Define the model, in this scope the model uses:\n",
    "- 1 layer of keras Dense layer\n",
    "- 1 layer of keras Dropout layer\n",
    "- 1 layer of keras Dense layer\n",
    "\n",
    ">The activation function in first Dense layer is `ReLu` because `ReLu` is one of the best activation function. No activation function for Dropout layer. For the last Dense Layer we have `softmax` activation function for multiclass clasification.\n",
    "\n",
    "2. Compile the model. To fit this model the\"Stochastic Gradient Descent\" `SGD` better for optimizer. The loss function is `\"sparse_categorical_crossentropy\"` which is better for multi-class classification with `LabelEncoder` and `accuracy` as metric.\n",
    "3. Fit the model with 20 `epoch`, 13 `batch_size` and `X_val` and `y_val` as validation data."
   ]
  },
  {
   "cell_type": "markdown",
   "id": "d8e71db0",
   "metadata": {},
   "source": [
    "### iv. Evaluation"
   ]
  },
  {
   "cell_type": "markdown",
   "id": "73ee4619",
   "metadata": {},
   "source": [
    "1. Evaluate the model to see performance model with `evaluate` method.\n",
    "2. Plot the accuracy of the model in the epoch. The plot is the accuracy of both the train set and validation set data. After that, look at the graph. If the graph shows continue increase at each epoch, then the model is well-fit.\n",
    "3. Plot the loss of the model in the epoch. The plot is the loss of both the train set and validation set data. After that, look at the graph. The graph should continue decrease at each epoch, then the model is well-fit.\n",
    "4. Evaluate the model with classification report for get information:\n",
    "- Precision \n",
    "- Recall \n",
    "- F1-Score\n",
    "- Support\n",
    "- accuracy average\n",
    "- macro average\n",
    "- micro average"
   ]
  },
  {
   "cell_type": "markdown",
   "id": "d67fc569",
   "metadata": {},
   "source": [
    "### v. Save Model"
   ]
  },
  {
   "cell_type": "markdown",
   "id": "c3cf1ff8",
   "metadata": {},
   "source": [
    "Save the best model into `.hdf5` for re-training or just load to make some prediction with the model."
   ]
  },
  {
   "cell_type": "markdown",
   "id": "ccd8fe34",
   "metadata": {},
   "source": [
    "## C. Data Processing"
   ]
  },
  {
   "cell_type": "markdown",
   "id": "6313cf2a",
   "metadata": {},
   "source": [
    "The dataset we have is raw data, we need to preprocessing the data so that the data is ready to be used in the training process."
   ]
  },
  {
   "cell_type": "markdown",
   "id": "68753bda",
   "metadata": {},
   "source": [
    "### i. Load Libraries"
   ]
  },
  {
   "cell_type": "markdown",
   "id": "36dc7c73",
   "metadata": {},
   "source": [
    "We use `import` to load libraries. The libraries we needed are:\n",
    "- TensorFlow\n",
    "- Pandas\n",
    "- Numpy\n",
    "- Matplotlib"
   ]
  },
  {
   "cell_type": "code",
   "execution_count": 3,
   "id": "d795a9b1",
   "metadata": {
    "collapsed": true
   },
   "outputs": [
    {
     "name": "stdout",
     "output_type": "stream",
     "text": [
      "Collecting tensorflow\n",
      "  Using cached tensorflow-2.12.0-cp310-cp310-win_amd64.whl (1.9 kB)\n",
      "Collecting tensorflow-intel==2.12.0\n",
      "  Using cached tensorflow_intel-2.12.0-cp310-cp310-win_amd64.whl (272.8 MB)\n",
      "Collecting grpcio<2.0,>=1.24.3\n",
      "  Downloading grpcio-1.54.2-cp310-cp310-win_amd64.whl (4.1 MB)\n",
      "     ---------------------------------------- 4.1/4.1 MB 88.1 kB/s eta 0:00:00\n",
      "Collecting absl-py>=1.0.0\n",
      "  Using cached absl_py-1.4.0-py3-none-any.whl (126 kB)\n",
      "Collecting jax>=0.3.15\n",
      "  Using cached jax-0.4.11.tar.gz (1.3 MB)\n",
      "  Installing build dependencies: started\n",
      "  Installing build dependencies: finished with status 'done'\n",
      "  Getting requirements to build wheel: started\n",
      "  Getting requirements to build wheel: finished with status 'done'\n",
      "  Preparing metadata (pyproject.toml): started\n",
      "  Preparing metadata (pyproject.toml): finished with status 'done'\n",
      "Collecting protobuf!=4.21.0,!=4.21.1,!=4.21.2,!=4.21.3,!=4.21.4,!=4.21.5,<5.0.0dev,>=3.20.3\n",
      "  Using cached protobuf-4.23.2-cp310-abi3-win_amd64.whl (422 kB)\n",
      "Collecting termcolor>=1.1.0\n",
      "  Using cached termcolor-2.3.0-py3-none-any.whl (6.9 kB)\n",
      "Collecting astunparse>=1.6.0\n",
      "  Using cached astunparse-1.6.3-py2.py3-none-any.whl (12 kB)\n",
      "Requirement already satisfied: packaging in e:\\apl\\lib\\site-packages (from tensorflow-intel==2.12.0->tensorflow) (22.0)\n",
      "Requirement already satisfied: numpy<1.24,>=1.22 in e:\\apl\\lib\\site-packages (from tensorflow-intel==2.12.0->tensorflow) (1.23.5)\n",
      "Collecting opt-einsum>=2.3.2\n",
      "  Using cached opt_einsum-3.3.0-py3-none-any.whl (65 kB)\n",
      "Collecting gast<=0.4.0,>=0.2.1\n",
      "  Using cached gast-0.4.0-py3-none-any.whl (9.8 kB)\n",
      "Collecting tensorflow-estimator<2.13,>=2.12.0\n",
      "  Using cached tensorflow_estimator-2.12.0-py2.py3-none-any.whl (440 kB)\n",
      "Requirement already satisfied: h5py>=2.9.0 in e:\\apl\\lib\\site-packages (from tensorflow-intel==2.12.0->tensorflow) (3.7.0)\n",
      "Collecting tensorflow-io-gcs-filesystem>=0.23.1\n",
      "  Using cached tensorflow_io_gcs_filesystem-0.31.0-cp310-cp310-win_amd64.whl (1.5 MB)\n",
      "Collecting libclang>=13.0.0\n",
      "  Using cached libclang-16.0.0-py2.py3-none-win_amd64.whl (24.4 MB)\n",
      "Requirement already satisfied: typing-extensions>=3.6.6 in e:\\apl\\lib\\site-packages (from tensorflow-intel==2.12.0->tensorflow) (4.4.0)\n",
      "Requirement already satisfied: six>=1.12.0 in e:\\apl\\lib\\site-packages (from tensorflow-intel==2.12.0->tensorflow) (1.16.0)\n",
      "Requirement already satisfied: setuptools in e:\\apl\\lib\\site-packages (from tensorflow-intel==2.12.0->tensorflow) (65.6.3)\n",
      "Requirement already satisfied: wrapt<1.15,>=1.11.0 in e:\\apl\\lib\\site-packages (from tensorflow-intel==2.12.0->tensorflow) (1.14.1)\n",
      "Collecting flatbuffers>=2.0\n",
      "  Using cached flatbuffers-23.5.26-py2.py3-none-any.whl (26 kB)\n",
      "Collecting google-pasta>=0.1.1\n",
      "  Using cached google_pasta-0.2.0-py3-none-any.whl (57 kB)\n",
      "Collecting tensorboard<2.13,>=2.12\n",
      "  Using cached tensorboard-2.12.3-py3-none-any.whl (5.6 MB)\n",
      "Collecting keras<2.13,>=2.12.0\n",
      "  Using cached keras-2.12.0-py2.py3-none-any.whl (1.7 MB)\n",
      "Requirement already satisfied: wheel<1.0,>=0.23.0 in e:\\apl\\lib\\site-packages (from astunparse>=1.6.0->tensorflow-intel==2.12.0->tensorflow) (0.38.4)\n",
      "Collecting ml-dtypes>=0.1.0\n",
      "  Using cached ml_dtypes-0.1.0-cp310-cp310-win_amd64.whl (120 kB)\n",
      "Requirement already satisfied: scipy>=1.7 in e:\\apl\\lib\\site-packages (from jax>=0.3.15->tensorflow-intel==2.12.0->tensorflow) (1.10.0)\n",
      "Requirement already satisfied: requests<3,>=2.21.0 in e:\\apl\\lib\\site-packages (from tensorboard<2.13,>=2.12->tensorflow-intel==2.12.0->tensorflow) (2.28.1)\n",
      "Collecting google-auth<3,>=1.6.3\n",
      "  Downloading google_auth-2.19.1-py2.py3-none-any.whl (181 kB)\n",
      "     ----------------------------------- 181.3/181.3 kB 331.5 kB/s eta 0:00:00\n",
      "Collecting tensorboard-data-server<0.8.0,>=0.7.0\n",
      "  Using cached tensorboard_data_server-0.7.0-py3-none-any.whl (2.4 kB)\n",
      "Collecting google-auth-oauthlib<1.1,>=0.5\n",
      "  Using cached google_auth_oauthlib-1.0.0-py2.py3-none-any.whl (18 kB)\n",
      "Requirement already satisfied: markdown>=2.6.8 in e:\\apl\\lib\\site-packages (from tensorboard<2.13,>=2.12->tensorflow-intel==2.12.0->tensorflow) (3.4.1)\n",
      "Requirement already satisfied: werkzeug>=1.0.1 in e:\\apl\\lib\\site-packages (from tensorboard<2.13,>=2.12->tensorflow-intel==2.12.0->tensorflow) (2.2.2)\n",
      "Requirement already satisfied: urllib3<2.0 in e:\\apl\\lib\\site-packages (from google-auth<3,>=1.6.3->tensorboard<2.13,>=2.12->tensorflow-intel==2.12.0->tensorflow) (1.26.14)\n",
      "Collecting cachetools<6.0,>=2.0.0\n",
      "  Using cached cachetools-5.3.1-py3-none-any.whl (9.3 kB)\n",
      "Collecting rsa<5,>=3.1.4\n",
      "  Using cached rsa-4.9-py3-none-any.whl (34 kB)\n",
      "Requirement already satisfied: pyasn1-modules>=0.2.1 in e:\\apl\\lib\\site-packages (from google-auth<3,>=1.6.3->tensorboard<2.13,>=2.12->tensorflow-intel==2.12.0->tensorflow) (0.2.8)\n",
      "Collecting requests-oauthlib>=0.7.0\n",
      "  Using cached requests_oauthlib-1.3.1-py2.py3-none-any.whl (23 kB)\n",
      "Requirement already satisfied: idna<4,>=2.5 in e:\\apl\\lib\\site-packages (from requests<3,>=2.21.0->tensorboard<2.13,>=2.12->tensorflow-intel==2.12.0->tensorflow) (3.4)\n",
      "Requirement already satisfied: certifi>=2017.4.17 in e:\\apl\\lib\\site-packages (from requests<3,>=2.21.0->tensorboard<2.13,>=2.12->tensorflow-intel==2.12.0->tensorflow) (2022.12.7)\n",
      "Requirement already satisfied: charset-normalizer<3,>=2 in e:\\apl\\lib\\site-packages (from requests<3,>=2.21.0->tensorboard<2.13,>=2.12->tensorflow-intel==2.12.0->tensorflow) (2.0.4)\n",
      "Requirement already satisfied: MarkupSafe>=2.1.1 in e:\\apl\\lib\\site-packages (from werkzeug>=1.0.1->tensorboard<2.13,>=2.12->tensorflow-intel==2.12.0->tensorflow) (2.1.1)\n",
      "Requirement already satisfied: pyasn1<0.5.0,>=0.4.6 in e:\\apl\\lib\\site-packages (from pyasn1-modules>=0.2.1->google-auth<3,>=1.6.3->tensorboard<2.13,>=2.12->tensorflow-intel==2.12.0->tensorflow) (0.4.8)\n",
      "Collecting oauthlib>=3.0.0\n",
      "  Using cached oauthlib-3.2.2-py3-none-any.whl (151 kB)\n",
      "Building wheels for collected packages: jax\n",
      "  Building wheel for jax (pyproject.toml): started\n",
      "  Building wheel for jax (pyproject.toml): finished with status 'done'\n",
      "  Created wheel for jax: filename=jax-0.4.11-py3-none-any.whl size=1487992 sha256=5dfe30ccd667ebe24e83107cdf1e02f6c277cd4da6e8461f72729f6ddbe1df73\n",
      "  Stored in directory: c:\\users\\acer\\appdata\\local\\pip\\cache\\wheels\\60\\ba\\dd\\b66da6df64fba82ddb4401361647a80bb117e33b1fbca4d0b5\n",
      "Successfully built jax\n",
      "Installing collected packages: libclang, flatbuffers, termcolor, tensorflow-io-gcs-filesystem, tensorflow-estimator, tensorboard-data-server, rsa, protobuf, opt-einsum, oauthlib, ml-dtypes, keras, grpcio, google-pasta, gast, cachetools, astunparse, absl-py, requests-oauthlib, jax, google-auth, google-auth-oauthlib, tensorboard, tensorflow-intel, tensorflow\n",
      "Successfully installed absl-py-1.4.0 astunparse-1.6.3 cachetools-5.3.1 flatbuffers-23.5.26 gast-0.4.0 google-auth-2.19.1 google-auth-oauthlib-1.0.0 google-pasta-0.2.0 grpcio-1.54.2 jax-0.4.11 keras-2.12.0 libclang-16.0.0 ml-dtypes-0.1.0 oauthlib-3.2.2 opt-einsum-3.3.0 protobuf-4.23.2 requests-oauthlib-1.3.1 rsa-4.9 tensorboard-2.12.3 tensorboard-data-server-0.7.0 tensorflow-2.12.0 tensorflow-estimator-2.12.0 tensorflow-intel-2.12.0 tensorflow-io-gcs-filesystem-0.31.0 termcolor-2.3.0\n",
      "Note: you may need to restart the kernel to use updated packages.\n"
     ]
    }
   ],
   "source": [
    "pip install tensorflow"
   ]
  },
  {
   "cell_type": "code",
   "execution_count": 4,
   "id": "49601e94",
   "metadata": {},
   "outputs": [],
   "source": [
    "import tensorflow as tf\n",
    "import pandas as pd\n",
    "import numpy as np\n",
    "import matplotlib.pyplot as plt\n",
    "\n",
    "from sklearn.model_selection import train_test_split\n",
    "from sklearn.metrics import classification_report\n",
    "from sklearn.preprocessing import LabelEncoder\n",
    "\n",
    "from keras.layers.core import Dropout"
   ]
  },
  {
   "cell_type": "markdown",
   "id": "34dbea8a",
   "metadata": {},
   "source": [
    "### ii. Load Dataset"
   ]
  },
  {
   "cell_type": "markdown",
   "id": "074d9f9a",
   "metadata": {},
   "source": [
    "Load datasets from **\"Training.csv\"** and **\"Testing.csv\"** using Pandas from **Dataset** folder. \n",
    "The **Training.csv\"** dataset is the main dataset in preprocessing into modelling step. The result of raw data is shown below."
   ]
  },
  {
   "cell_type": "code",
   "execution_count": 5,
   "id": "757857d1",
   "metadata": {},
   "outputs": [],
   "source": [
    "#read training data csv with header = 0 and delimiter = ;\n",
    "df = pd.read_csv('Dataset/Training.csv', header=0, delimiter=',')\n",
    "test_df = pd.read_csv('Dataset/Testing.csv', header=0, delimiter=';')"
   ]
  },
  {
   "cell_type": "markdown",
   "id": "d098d5c3",
   "metadata": {},
   "source": [
    "### iii. Check dimension of data"
   ]
  },
  {
   "cell_type": "markdown",
   "id": "592a4e9b",
   "metadata": {},
   "source": [
    "Use method `head` to get head of our data, Methode `shape` to get our dimension dataset and method `info` to get summary of dataset. The purpose is to gain an initial understanding of our Dataset."
   ]
  },
  {
   "cell_type": "code",
   "execution_count": 7,
   "id": "b14b7eb7",
   "metadata": {},
   "outputs": [
    {
     "data": {
      "text/html": [
       "<div>\n",
       "<style scoped>\n",
       "    .dataframe tbody tr th:only-of-type {\n",
       "        vertical-align: middle;\n",
       "    }\n",
       "\n",
       "    .dataframe tbody tr th {\n",
       "        vertical-align: top;\n",
       "    }\n",
       "\n",
       "    .dataframe thead th {\n",
       "        text-align: right;\n",
       "    }\n",
       "</style>\n",
       "<table border=\"1\" class=\"dataframe\">\n",
       "  <thead>\n",
       "    <tr style=\"text-align: right;\">\n",
       "      <th></th>\n",
       "      <th>gatal</th>\n",
       "      <th>ruam_kulit</th>\n",
       "      <th>benjolan_pada_kulit</th>\n",
       "      <th>bersin-bersin</th>\n",
       "      <th>menggigil</th>\n",
       "      <th>merinding</th>\n",
       "      <th>nyeri_sendi</th>\n",
       "      <th>sakit_perut</th>\n",
       "      <th>asam_lambung</th>\n",
       "      <th>sariawan</th>\n",
       "      <th>...</th>\n",
       "      <th>komedo</th>\n",
       "      <th>menggaruk</th>\n",
       "      <th>pengelupasan_kulit</th>\n",
       "      <th>kulit_bersisik</th>\n",
       "      <th>celah_kecil_pada_kuku</th>\n",
       "      <th>peradangan_kuku</th>\n",
       "      <th>kulit_melepuh</th>\n",
       "      <th>luka_merah_di_sekitar_hidung</th>\n",
       "      <th>bekas_luka_berair</th>\n",
       "      <th>prognosis</th>\n",
       "    </tr>\n",
       "  </thead>\n",
       "  <tbody>\n",
       "    <tr>\n",
       "      <th>0</th>\n",
       "      <td>0</td>\n",
       "      <td>0</td>\n",
       "      <td>0</td>\n",
       "      <td>0</td>\n",
       "      <td>0</td>\n",
       "      <td>0</td>\n",
       "      <td>0</td>\n",
       "      <td>0</td>\n",
       "      <td>0</td>\n",
       "      <td>0</td>\n",
       "      <td>...</td>\n",
       "      <td>0</td>\n",
       "      <td>0</td>\n",
       "      <td>0</td>\n",
       "      <td>0</td>\n",
       "      <td>0</td>\n",
       "      <td>0</td>\n",
       "      <td>0</td>\n",
       "      <td>0</td>\n",
       "      <td>0</td>\n",
       "      <td>Vertigo Posisional Paroksismal</td>\n",
       "    </tr>\n",
       "    <tr>\n",
       "      <th>1</th>\n",
       "      <td>0</td>\n",
       "      <td>0</td>\n",
       "      <td>0</td>\n",
       "      <td>0</td>\n",
       "      <td>0</td>\n",
       "      <td>0</td>\n",
       "      <td>0</td>\n",
       "      <td>0</td>\n",
       "      <td>0</td>\n",
       "      <td>0</td>\n",
       "      <td>...</td>\n",
       "      <td>0</td>\n",
       "      <td>0</td>\n",
       "      <td>0</td>\n",
       "      <td>0</td>\n",
       "      <td>0</td>\n",
       "      <td>0</td>\n",
       "      <td>0</td>\n",
       "      <td>0</td>\n",
       "      <td>0</td>\n",
       "      <td>Vertigo Posisional Paroksismal</td>\n",
       "    </tr>\n",
       "    <tr>\n",
       "      <th>2</th>\n",
       "      <td>0</td>\n",
       "      <td>0</td>\n",
       "      <td>0</td>\n",
       "      <td>0</td>\n",
       "      <td>0</td>\n",
       "      <td>0</td>\n",
       "      <td>0</td>\n",
       "      <td>0</td>\n",
       "      <td>0</td>\n",
       "      <td>0</td>\n",
       "      <td>...</td>\n",
       "      <td>0</td>\n",
       "      <td>0</td>\n",
       "      <td>0</td>\n",
       "      <td>0</td>\n",
       "      <td>0</td>\n",
       "      <td>0</td>\n",
       "      <td>0</td>\n",
       "      <td>0</td>\n",
       "      <td>0</td>\n",
       "      <td>Vertigo Posisional Paroksismal</td>\n",
       "    </tr>\n",
       "    <tr>\n",
       "      <th>3</th>\n",
       "      <td>0</td>\n",
       "      <td>0</td>\n",
       "      <td>0</td>\n",
       "      <td>0</td>\n",
       "      <td>0</td>\n",
       "      <td>0</td>\n",
       "      <td>0</td>\n",
       "      <td>0</td>\n",
       "      <td>0</td>\n",
       "      <td>0</td>\n",
       "      <td>...</td>\n",
       "      <td>0</td>\n",
       "      <td>0</td>\n",
       "      <td>0</td>\n",
       "      <td>0</td>\n",
       "      <td>0</td>\n",
       "      <td>0</td>\n",
       "      <td>0</td>\n",
       "      <td>0</td>\n",
       "      <td>0</td>\n",
       "      <td>Vertigo Posisional Paroksismal</td>\n",
       "    </tr>\n",
       "    <tr>\n",
       "      <th>4</th>\n",
       "      <td>0</td>\n",
       "      <td>0</td>\n",
       "      <td>0</td>\n",
       "      <td>0</td>\n",
       "      <td>0</td>\n",
       "      <td>0</td>\n",
       "      <td>0</td>\n",
       "      <td>0</td>\n",
       "      <td>0</td>\n",
       "      <td>0</td>\n",
       "      <td>...</td>\n",
       "      <td>0</td>\n",
       "      <td>0</td>\n",
       "      <td>0</td>\n",
       "      <td>0</td>\n",
       "      <td>0</td>\n",
       "      <td>0</td>\n",
       "      <td>0</td>\n",
       "      <td>0</td>\n",
       "      <td>0</td>\n",
       "      <td>Vertigo Posisional Paroksismal</td>\n",
       "    </tr>\n",
       "  </tbody>\n",
       "</table>\n",
       "<p>5 rows × 132 columns</p>\n",
       "</div>"
      ],
      "text/plain": [
       "   gatal  ruam_kulit  benjolan_pada_kulit  bersin-bersin  menggigil  \\\n",
       "0      0           0                    0              0          0   \n",
       "1      0           0                    0              0          0   \n",
       "2      0           0                    0              0          0   \n",
       "3      0           0                    0              0          0   \n",
       "4      0           0                    0              0          0   \n",
       "\n",
       "   merinding  nyeri_sendi  sakit_perut  asam_lambung  sariawan  ...  komedo  \\\n",
       "0          0            0            0             0         0  ...       0   \n",
       "1          0            0            0             0         0  ...       0   \n",
       "2          0            0            0             0         0  ...       0   \n",
       "3          0            0            0             0         0  ...       0   \n",
       "4          0            0            0             0         0  ...       0   \n",
       "\n",
       "   menggaruk  pengelupasan_kulit  kulit_bersisik  celah_kecil_pada_kuku  \\\n",
       "0          0                   0               0                      0   \n",
       "1          0                   0               0                      0   \n",
       "2          0                   0               0                      0   \n",
       "3          0                   0               0                      0   \n",
       "4          0                   0               0                      0   \n",
       "\n",
       "   peradangan_kuku  kulit_melepuh  luka_merah_di_sekitar_hidung  \\\n",
       "0                0              0                             0   \n",
       "1                0              0                             0   \n",
       "2                0              0                             0   \n",
       "3                0              0                             0   \n",
       "4                0              0                             0   \n",
       "\n",
       "   bekas_luka_berair                       prognosis  \n",
       "0                  0  Vertigo Posisional Paroksismal  \n",
       "1                  0  Vertigo Posisional Paroksismal  \n",
       "2                  0  Vertigo Posisional Paroksismal  \n",
       "3                  0  Vertigo Posisional Paroksismal  \n",
       "4                  0  Vertigo Posisional Paroksismal  \n",
       "\n",
       "[5 rows x 132 columns]"
      ]
     },
     "execution_count": 7,
     "metadata": {},
     "output_type": "execute_result"
    }
   ],
   "source": [
    "#check 5 head data training\n",
    "df.head(5)"
   ]
  },
  {
   "cell_type": "code",
   "execution_count": 8,
   "id": "e98b8376",
   "metadata": {},
   "outputs": [
    {
     "data": {
      "text/html": [
       "<div>\n",
       "<style scoped>\n",
       "    .dataframe tbody tr th:only-of-type {\n",
       "        vertical-align: middle;\n",
       "    }\n",
       "\n",
       "    .dataframe tbody tr th {\n",
       "        vertical-align: top;\n",
       "    }\n",
       "\n",
       "    .dataframe thead th {\n",
       "        text-align: right;\n",
       "    }\n",
       "</style>\n",
       "<table border=\"1\" class=\"dataframe\">\n",
       "  <thead>\n",
       "    <tr style=\"text-align: right;\">\n",
       "      <th></th>\n",
       "      <th>gatal</th>\n",
       "      <th>ruam_kulit</th>\n",
       "      <th>benjolan_pada_kulit</th>\n",
       "      <th>bersin-bersin</th>\n",
       "      <th>menggigil</th>\n",
       "      <th>merinding</th>\n",
       "      <th>nyeri_sendi</th>\n",
       "      <th>sakit_perut</th>\n",
       "      <th>asam_lambung</th>\n",
       "      <th>sariawan</th>\n",
       "      <th>...</th>\n",
       "      <th>komedo</th>\n",
       "      <th>menggaruk</th>\n",
       "      <th>pengelupasan_kulit</th>\n",
       "      <th>kulit_bersisik</th>\n",
       "      <th>celah_kecil_pada_kuku</th>\n",
       "      <th>peradangan_kuku</th>\n",
       "      <th>kulit_melepuh</th>\n",
       "      <th>luka_merah_di_sekitar_hidung</th>\n",
       "      <th>bekas_luka_berair</th>\n",
       "      <th>prognosis</th>\n",
       "    </tr>\n",
       "  </thead>\n",
       "  <tbody>\n",
       "    <tr>\n",
       "      <th>0</th>\n",
       "      <td>0</td>\n",
       "      <td>0</td>\n",
       "      <td>0</td>\n",
       "      <td>0</td>\n",
       "      <td>0</td>\n",
       "      <td>0</td>\n",
       "      <td>0</td>\n",
       "      <td>0</td>\n",
       "      <td>0</td>\n",
       "      <td>0</td>\n",
       "      <td>...</td>\n",
       "      <td>0</td>\n",
       "      <td>0</td>\n",
       "      <td>0</td>\n",
       "      <td>0</td>\n",
       "      <td>0</td>\n",
       "      <td>0</td>\n",
       "      <td>0</td>\n",
       "      <td>0</td>\n",
       "      <td>0</td>\n",
       "      <td>Vertigo Posisional Paroksismal</td>\n",
       "    </tr>\n",
       "    <tr>\n",
       "      <th>1</th>\n",
       "      <td>0</td>\n",
       "      <td>1</td>\n",
       "      <td>0</td>\n",
       "      <td>0</td>\n",
       "      <td>0</td>\n",
       "      <td>0</td>\n",
       "      <td>0</td>\n",
       "      <td>0</td>\n",
       "      <td>0</td>\n",
       "      <td>0</td>\n",
       "      <td>...</td>\n",
       "      <td>1</td>\n",
       "      <td>1</td>\n",
       "      <td>0</td>\n",
       "      <td>0</td>\n",
       "      <td>0</td>\n",
       "      <td>0</td>\n",
       "      <td>0</td>\n",
       "      <td>0</td>\n",
       "      <td>0</td>\n",
       "      <td>Jerawat</td>\n",
       "    </tr>\n",
       "    <tr>\n",
       "      <th>2</th>\n",
       "      <td>0</td>\n",
       "      <td>0</td>\n",
       "      <td>0</td>\n",
       "      <td>0</td>\n",
       "      <td>0</td>\n",
       "      <td>0</td>\n",
       "      <td>0</td>\n",
       "      <td>0</td>\n",
       "      <td>0</td>\n",
       "      <td>0</td>\n",
       "      <td>...</td>\n",
       "      <td>0</td>\n",
       "      <td>0</td>\n",
       "      <td>0</td>\n",
       "      <td>0</td>\n",
       "      <td>0</td>\n",
       "      <td>0</td>\n",
       "      <td>0</td>\n",
       "      <td>0</td>\n",
       "      <td>0</td>\n",
       "      <td>AIDS</td>\n",
       "    </tr>\n",
       "    <tr>\n",
       "      <th>3</th>\n",
       "      <td>0</td>\n",
       "      <td>0</td>\n",
       "      <td>0</td>\n",
       "      <td>0</td>\n",
       "      <td>0</td>\n",
       "      <td>0</td>\n",
       "      <td>0</td>\n",
       "      <td>0</td>\n",
       "      <td>0</td>\n",
       "      <td>0</td>\n",
       "      <td>...</td>\n",
       "      <td>0</td>\n",
       "      <td>0</td>\n",
       "      <td>0</td>\n",
       "      <td>0</td>\n",
       "      <td>0</td>\n",
       "      <td>0</td>\n",
       "      <td>0</td>\n",
       "      <td>0</td>\n",
       "      <td>0</td>\n",
       "      <td>Hepatitis Alkoholik</td>\n",
       "    </tr>\n",
       "    <tr>\n",
       "      <th>4</th>\n",
       "      <td>0</td>\n",
       "      <td>0</td>\n",
       "      <td>0</td>\n",
       "      <td>1</td>\n",
       "      <td>1</td>\n",
       "      <td>1</td>\n",
       "      <td>0</td>\n",
       "      <td>0</td>\n",
       "      <td>0</td>\n",
       "      <td>0</td>\n",
       "      <td>...</td>\n",
       "      <td>0</td>\n",
       "      <td>0</td>\n",
       "      <td>0</td>\n",
       "      <td>0</td>\n",
       "      <td>0</td>\n",
       "      <td>0</td>\n",
       "      <td>0</td>\n",
       "      <td>0</td>\n",
       "      <td>0</td>\n",
       "      <td>Alergi</td>\n",
       "    </tr>\n",
       "  </tbody>\n",
       "</table>\n",
       "<p>5 rows × 132 columns</p>\n",
       "</div>"
      ],
      "text/plain": [
       "   gatal  ruam_kulit  benjolan_pada_kulit  bersin-bersin  menggigil  \\\n",
       "0      0           0                    0              0          0   \n",
       "1      0           1                    0              0          0   \n",
       "2      0           0                    0              0          0   \n",
       "3      0           0                    0              0          0   \n",
       "4      0           0                    0              1          1   \n",
       "\n",
       "   merinding  nyeri_sendi  sakit_perut  asam_lambung  sariawan  ...  komedo  \\\n",
       "0          0            0            0             0         0  ...       0   \n",
       "1          0            0            0             0         0  ...       1   \n",
       "2          0            0            0             0         0  ...       0   \n",
       "3          0            0            0             0         0  ...       0   \n",
       "4          1            0            0             0         0  ...       0   \n",
       "\n",
       "   menggaruk  pengelupasan_kulit  kulit_bersisik  celah_kecil_pada_kuku  \\\n",
       "0          0                   0               0                      0   \n",
       "1          1                   0               0                      0   \n",
       "2          0                   0               0                      0   \n",
       "3          0                   0               0                      0   \n",
       "4          0                   0               0                      0   \n",
       "\n",
       "   peradangan_kuku  kulit_melepuh  luka_merah_di_sekitar_hidung  \\\n",
       "0                0              0                             0   \n",
       "1                0              0                             0   \n",
       "2                0              0                             0   \n",
       "3                0              0                             0   \n",
       "4                0              0                             0   \n",
       "\n",
       "   bekas_luka_berair                       prognosis  \n",
       "0                  0  Vertigo Posisional Paroksismal  \n",
       "1                  0                         Jerawat  \n",
       "2                  0                            AIDS  \n",
       "3                  0             Hepatitis Alkoholik  \n",
       "4                  0                          Alergi  \n",
       "\n",
       "[5 rows x 132 columns]"
      ]
     },
     "execution_count": 8,
     "metadata": {},
     "output_type": "execute_result"
    }
   ],
   "source": [
    "#check 5 head data testing\n",
    "test_df.head(5)"
   ]
  },
  {
   "cell_type": "code",
   "execution_count": 6,
   "id": "a7e4cb14",
   "metadata": {},
   "outputs": [
    {
     "data": {
      "text/plain": [
       "((4961, 132), (41, 132))"
      ]
     },
     "execution_count": 6,
     "metadata": {},
     "output_type": "execute_result"
    }
   ],
   "source": [
    "#check dimension data training and testing\n",
    "df.shape, test_df.shape"
   ]
  },
  {
   "cell_type": "code",
   "execution_count": 9,
   "id": "f701dc2a",
   "metadata": {},
   "outputs": [
    {
     "name": "stdout",
     "output_type": "stream",
     "text": [
      "<class 'pandas.core.frame.DataFrame'>\n",
      "RangeIndex: 4961 entries, 0 to 4960\n",
      "Columns: 132 entries, gatal to prognosis\n",
      "dtypes: int64(131), object(1)\n",
      "memory usage: 5.0+ MB\n"
     ]
    }
   ],
   "source": [
    "#get summary from training dataset\n",
    "df.info()"
   ]
  },
  {
   "cell_type": "code",
   "execution_count": 10,
   "id": "741904bd",
   "metadata": {},
   "outputs": [
    {
     "name": "stdout",
     "output_type": "stream",
     "text": [
      "<class 'pandas.core.frame.DataFrame'>\n",
      "RangeIndex: 41 entries, 0 to 40\n",
      "Columns: 132 entries, gatal to prognosis\n",
      "dtypes: int64(131), object(1)\n",
      "memory usage: 42.4+ KB\n"
     ]
    }
   ],
   "source": [
    "#get summary from testing dataset\n",
    "test_df.info()"
   ]
  },
  {
   "cell_type": "markdown",
   "id": "089cd460",
   "metadata": {},
   "source": [
    "### iv. Check empty cell"
   ]
  },
  {
   "cell_type": "markdown",
   "id": "93f0036a",
   "metadata": {},
   "source": [
    "We can find empty cell with `isnull` method and calculate total of them with `sum` method."
   ]
  },
  {
   "cell_type": "code",
   "execution_count": 30,
   "id": "77d2c32c",
   "metadata": {},
   "outputs": [
    {
     "name": "stdout",
     "output_type": "stream",
     "text": [
      "Training: \n",
      "gatal                           0\n",
      "ruam_kulit                      0\n",
      "benjolan_pada_kulit             0\n",
      "bersin-bersin                   0\n",
      "menggigil                       0\n",
      "                               ..\n",
      "peradangan_kuku                 0\n",
      "kulit_melepuh                   0\n",
      "luka_merah_di_sekitar_hidung    0\n",
      "bekas_luka_berair               0\n",
      "prognosis                       0\n",
      "Length: 132, dtype: int64, \n",
      "\n",
      "Testing:\n",
      "gatal                           0\n",
      "ruam_kulit                      0\n",
      "benjolan_pada_kulit             0\n",
      "bersin-bersin                   0\n",
      "menggigil                       0\n",
      "                               ..\n",
      "peradangan_kuku                 0\n",
      "kulit_melepuh                   0\n",
      "luka_merah_di_sekitar_hidung    0\n",
      "bekas_luka_berair               0\n",
      "prognosis                       0\n",
      "Length: 132, dtype: int64\n"
     ]
    }
   ],
   "source": [
    "# Check if there are cells that do not contain (NULL/NaN)\n",
    "cek_training = df.isnull().sum()\n",
    "cek_testing = test_df.isnull().sum()\n",
    "\n",
    "print(f\"Training: \\n{cek_training}, \\n\\nTesting:\\n{cek_testing}\")"
   ]
  },
  {
   "cell_type": "markdown",
   "id": "1bb980ec",
   "metadata": {},
   "source": [
    "### v. See distribution of each Label"
   ]
  },
  {
   "cell_type": "markdown",
   "id": "c0e7f006",
   "metadata": {},
   "source": [
    "The label of data is **prognosis** column, we can calculate distrbution of each label with `value_counts` method."
   ]
  },
  {
   "cell_type": "code",
   "execution_count": 31,
   "id": "59783b3c",
   "metadata": {},
   "outputs": [
    {
     "data": {
      "text/plain": [
       "Vertigo Posisional Paroksismal    121\n",
       "Hepatitis C                       121\n",
       "Hepatitis E                       121\n",
       "Hipertensi                        121\n",
       "Hipertiroidisme                   121\n",
       "Hipoglikemia                      121\n",
       "Hipotiroidisme                    121\n",
       "Impetigo                          121\n",
       "Kuning (penyakit kuning)          121\n",
       "Malaria                           121\n",
       "Migraine                          121\n",
       "Osteoartritis                     121\n",
       "Paralisis (pendarahan otak)       121\n",
       "Penyakit ulkus peptikum           121\n",
       "Pneumonia                         121\n",
       "Psoriasis                         121\n",
       "Tuberculosis                      121\n",
       "Typus                             121\n",
       "Infeksi saluran kemih             121\n",
       "Hepatitis D                       121\n",
       "Hepatitis B                       121\n",
       "Jerawat                           121\n",
       "Hepatitis A                       121\n",
       "AIDS                              121\n",
       "Hepatitis Alkoholik               121\n",
       "Alergi                            121\n",
       "Artritis                          121\n",
       "Asma Bronkial                     121\n",
       "Spondilosis Serviks               121\n",
       "Cacar air                         121\n",
       "Kolestasis kronis                 121\n",
       "Pilek biasa                       121\n",
       "Demam berdarah                    121\n",
       "Diabetes                          121\n",
       "Hemoroid dimorfik (ambeien)       121\n",
       "Reaksi obat                       121\n",
       "Infeksi jamur                     121\n",
       "Gastroenteritis                   121\n",
       "GERD                              121\n",
       "Serangan jantung                  121\n",
       "Varises                           121\n",
       "Name: prognosis, dtype: int64"
      ]
     },
     "execution_count": 31,
     "metadata": {},
     "output_type": "execute_result"
    }
   ],
   "source": [
    "#get distribution each label training data\n",
    "df['prognosis'].value_counts()"
   ]
  },
  {
   "cell_type": "code",
   "execution_count": 33,
   "id": "d6c41ff0",
   "metadata": {},
   "outputs": [
    {
     "data": {
      "text/plain": [
       "Vertigo Posisional Paroksismal    1\n",
       "Hepatitis C                       1\n",
       "Hepatitis E                       1\n",
       "Hipertensi                        1\n",
       "Hipertiroidisme                   1\n",
       "Hipoglikemia                      1\n",
       "Hipotiroidisme                    1\n",
       "Impetigo                          1\n",
       "Kuning (penyakit kuning)          1\n",
       "Malaria                           1\n",
       "Migraine                          1\n",
       "Osteoartritis                     1\n",
       "Paralisis (pendarahan otak)       1\n",
       "Penyakit ulkus peptikum           1\n",
       "Pneumonia                         1\n",
       "Psoriasis                         1\n",
       "Tuberculosis                      1\n",
       "Typus                             1\n",
       "Infeksi saluran kemih             1\n",
       "Hepatitis D                       1\n",
       "Hepatitis B                       1\n",
       "Jerawat                           1\n",
       "Hepatitis A                       1\n",
       "AIDS                              1\n",
       "Hepatitis Alkoholik               1\n",
       "Alergi                            1\n",
       "Artritis                          1\n",
       "Asma Bronkial                     1\n",
       "Spondilosis Serviks               1\n",
       "Cacar air                         1\n",
       "Kolestasis kronis                 1\n",
       "Pilek biasa                       1\n",
       "Demam berdarah                    1\n",
       "Diabetes                          1\n",
       "Hemoroid dimorfik (ambeien)       1\n",
       "Reaksi obat                       1\n",
       "Infeksi jamur                     1\n",
       "Gastroenteritis                   1\n",
       "GERD                              1\n",
       "Serangan jantung                  1\n",
       "Varises                           1\n",
       "Name: prognosis, dtype: int64"
      ]
     },
     "execution_count": 33,
     "metadata": {},
     "output_type": "execute_result"
    }
   ],
   "source": [
    "#get distribution each label testing data\n",
    "test_df['prognosis'].value_counts()"
   ]
  },
  {
   "cell_type": "markdown",
   "id": "ea4fe324",
   "metadata": {},
   "source": [
    "### vi. Separate Feature and Label"
   ]
  },
  {
   "cell_type": "markdown",
   "id": "fa0ea190",
   "metadata": {},
   "source": [
    "Separate feature and label from dataset using `drop` method. The target label of dataset is **prognosis** column."
   ]
  },
  {
   "cell_type": "code",
   "execution_count": 34,
   "id": "4df7bd83",
   "metadata": {},
   "outputs": [],
   "source": [
    "features = [x for x in df.columns if x not in 'prognosis'] ## Removing our target variable\n",
    "# Separate features and target variable in testing dataset\n",
    "X_test = test_df.drop('prognosis', axis=1)  # Features\n",
    "y_test = test_df['prognosis']  # Target variable"
   ]
  },
  {
   "cell_type": "markdown",
   "id": "4e10d972",
   "metadata": {},
   "source": [
    "### vii. Split Training dataset into Train set and Validation set"
   ]
  },
  {
   "cell_type": "markdown",
   "id": "4a752b50",
   "metadata": {},
   "source": [
    "Split dataset using `train_test_split` from **Scikit-Learn**.\n",
    "\n",
    "Split **\"Training.csv\"** for 2 usage, there is **80%** proportion of data used for **training** and **20%** proportion of data for **validation**.\n",
    "\n",
    "`random_state` to control the consistency of the split data."
   ]
  },
  {
   "cell_type": "code",
   "execution_count": 35,
   "id": "bbf862f6",
   "metadata": {},
   "outputs": [],
   "source": [
    "RANDOM_STATE = 42  # Set the random seed for reproducibility\n",
    "X_train, X_val, y_train, y_val = train_test_split(df[features], df['prognosis'], train_size = 0.8, random_state = RANDOM_STATE)"
   ]
  },
  {
   "cell_type": "markdown",
   "id": "81d9477e",
   "metadata": {},
   "source": [
    "### viii. Label Encoder"
   ]
  },
  {
   "cell_type": "markdown",
   "id": "4c65ed6c",
   "metadata": {},
   "source": [
    "Convert label y into numeric using `LabelEncoder` from **Scikit-Learn**.\n",
    "\n",
    "Label y (prognosis) at **Training.csv** and **\"Testing.csv** has a string datatype then needed convert to numeric before before entering the training step.\n",
    "\n",
    "Then use `classes` method for show list of encoded."
   ]
  },
  {
   "cell_type": "code",
   "execution_count": 36,
   "id": "6b2209c3",
   "metadata": {},
   "outputs": [],
   "source": [
    "# Make object LabelEncoder\n",
    "label_encoder = LabelEncoder()\n",
    "\n",
    "# Convert to numeric\n",
    "y_train_encoded = label_encoder.fit_transform(y_train)\n",
    "y_val_encoded = label_encoder.transform(y_val)\n",
    "y_test_encoded = label_encoder.transform(y_test)"
   ]
  },
  {
   "cell_type": "code",
   "execution_count": 37,
   "id": "5087d792",
   "metadata": {},
   "outputs": [
    {
     "data": {
      "text/plain": [
       "['AIDS',\n",
       " 'Alergi',\n",
       " 'Artritis',\n",
       " 'Asma Bronkial',\n",
       " 'Cacar air',\n",
       " 'Demam berdarah',\n",
       " 'Diabetes',\n",
       " 'GERD',\n",
       " 'Gastroenteritis',\n",
       " 'Hemoroid dimorfik (ambeien)',\n",
       " 'Hepatitis A',\n",
       " 'Hepatitis Alkoholik',\n",
       " 'Hepatitis B',\n",
       " 'Hepatitis C',\n",
       " 'Hepatitis D',\n",
       " 'Hepatitis E',\n",
       " 'Hipertensi',\n",
       " 'Hipertiroidisme',\n",
       " 'Hipoglikemia',\n",
       " 'Hipotiroidisme',\n",
       " 'Impetigo',\n",
       " 'Infeksi jamur',\n",
       " 'Infeksi saluran kemih',\n",
       " 'Jerawat',\n",
       " 'Kolestasis kronis',\n",
       " 'Kuning (penyakit kuning)',\n",
       " 'Malaria',\n",
       " 'Migraine',\n",
       " 'Osteoartritis',\n",
       " 'Paralisis (pendarahan otak)',\n",
       " 'Penyakit ulkus peptikum',\n",
       " 'Pilek biasa',\n",
       " 'Pneumonia',\n",
       " 'Psoriasis',\n",
       " 'Reaksi obat',\n",
       " 'Serangan jantung',\n",
       " 'Spondilosis Serviks',\n",
       " 'Tuberculosis',\n",
       " 'Typus',\n",
       " 'Varises',\n",
       " 'Vertigo Posisional Paroksismal']"
      ]
     },
     "execution_count": 37,
     "metadata": {},
     "output_type": "execute_result"
    }
   ],
   "source": [
    "# Show list of encoded\n",
    "list(label_encoder.classes_)"
   ]
  },
  {
   "cell_type": "markdown",
   "id": "ea9b6b2e",
   "metadata": {},
   "source": [
    "## D. Modelling Process"
   ]
  },
  {
   "cell_type": "markdown",
   "id": "c5e9b5d5",
   "metadata": {},
   "source": [
    "The modeling process is the main topic in this document, where we create a model that is needed for the training process on our data.\n",
    "1. Define the model\n",
    "In this scope, our model are:\n",
    "- 1 layer of keras Dense layer\n",
    "- 1 layer of keras Dropout layer\n",
    "- 1 layer of keras Dense layer\n",
    "\n",
    ">The activation function in first Dense layer is `ReLu` because `ReLu` is one of the best activation function. No activation function for Dropout layer. For the last Dense Layer we have `softmax` activation function for multiclass clasification.\n",
    "\n",
    "2. See summary of model with method `summary`.\n",
    "\n",
    "3. Define learning rate\n",
    "\n",
    "> This model using `SGD` as a learning and the best learning rate for this scope is **0.01**.\n",
    "\n",
    "4. Compile the model. \n",
    "\n",
    ">To fit this model the\"Stochastic Gradient Descent\" `SGD` better for optimizer. The loss function is `\"sparse_categorical_crossentropy\"` which is better for multi-class classification with `LabelEncoder` and `accuracy` as metric.\n",
    "\n",
    "5. Define history to fit model\n",
    "\n",
    ">Fit the model with 20 `epoch`, 13 `batch_size` and `X_val` and `y_val_encoded` as validation data."
   ]
  },
  {
   "cell_type": "code",
   "execution_count": 40,
   "id": "90e18817",
   "metadata": {},
   "outputs": [
    {
     "name": "stdout",
     "output_type": "stream",
     "text": [
      "Model: \"sequential_2\"\n",
      "_________________________________________________________________\n",
      " Layer (type)                Output Shape              Param #   \n",
      "=================================================================\n",
      " dense_4 (Dense)             (None, 64)                8448      \n",
      "                                                                 \n",
      " dropout_2 (Dropout)         (None, 64)                0         \n",
      "                                                                 \n",
      " dense_5 (Dense)             (None, 41)                2665      \n",
      "                                                                 \n",
      "=================================================================\n",
      "Total params: 11,113\n",
      "Trainable params: 11,113\n",
      "Non-trainable params: 0\n",
      "_________________________________________________________________\n"
     ]
    }
   ],
   "source": [
    "# Build neural network\n",
    "model = tf.keras.Sequential([\n",
    "    tf.keras.layers.Dense(64, activation='relu', input_shape=(X_train.shape[1],)),\n",
    "    #tf.keras.layers.Dense(64, activation='relu'),\n",
    "    tf.keras.layers.Dropout(0.5),\n",
    "    tf.keras.layers.Dense(len(label_encoder.classes_), activation='softmax')\n",
    "])\n",
    "\n",
    "model.summary()"
   ]
  },
  {
   "cell_type": "code",
   "execution_count": 41,
   "id": "3c4830f3",
   "metadata": {},
   "outputs": [
    {
     "name": "stdout",
     "output_type": "stream",
     "text": [
      "Epoch 1/20\n",
      "306/306 - 2s - loss: 3.6160 - accuracy: 0.0759 - val_loss: 3.3955 - val_accuracy: 0.3414 - 2s/epoch - 5ms/step\n",
      "Epoch 2/20\n",
      "306/306 - 1s - loss: 3.2651 - accuracy: 0.2765 - val_loss: 3.0356 - val_accuracy: 0.6203 - 831ms/epoch - 3ms/step\n",
      "Epoch 3/20\n",
      "306/306 - 1s - loss: 2.8789 - accuracy: 0.4781 - val_loss: 2.6126 - val_accuracy: 0.8248 - 793ms/epoch - 3ms/step\n",
      "Epoch 4/20\n",
      "306/306 - 1s - loss: 2.4725 - accuracy: 0.6164 - val_loss: 2.1700 - val_accuracy: 0.9225 - 804ms/epoch - 3ms/step\n",
      "Epoch 5/20\n",
      "306/306 - 1s - loss: 2.0999 - accuracy: 0.7165 - val_loss: 1.7561 - val_accuracy: 0.9496 - 782ms/epoch - 3ms/step\n",
      "Epoch 6/20\n",
      "306/306 - 1s - loss: 1.7390 - accuracy: 0.8057 - val_loss: 1.3817 - val_accuracy: 0.9940 - 823ms/epoch - 3ms/step\n",
      "Epoch 7/20\n",
      "306/306 - 1s - loss: 1.4535 - accuracy: 0.8490 - val_loss: 1.0694 - val_accuracy: 0.9960 - 772ms/epoch - 3ms/step\n",
      "Epoch 8/20\n",
      "306/306 - 1s - loss: 1.2187 - accuracy: 0.8856 - val_loss: 0.8229 - val_accuracy: 0.9980 - 736ms/epoch - 2ms/step\n",
      "Epoch 9/20\n",
      "306/306 - 1s - loss: 1.0067 - accuracy: 0.9090 - val_loss: 0.6310 - val_accuracy: 0.9980 - 777ms/epoch - 3ms/step\n",
      "Epoch 10/20\n",
      "306/306 - 1s - loss: 0.8689 - accuracy: 0.9103 - val_loss: 0.4878 - val_accuracy: 0.9980 - 772ms/epoch - 3ms/step\n",
      "Epoch 11/20\n",
      "306/306 - 1s - loss: 0.7463 - accuracy: 0.9287 - val_loss: 0.3842 - val_accuracy: 0.9990 - 732ms/epoch - 2ms/step\n",
      "Epoch 12/20\n",
      "306/306 - 1s - loss: 0.6512 - accuracy: 0.9342 - val_loss: 0.3069 - val_accuracy: 0.9990 - 767ms/epoch - 3ms/step\n",
      "Epoch 13/20\n",
      "306/306 - 1s - loss: 0.5699 - accuracy: 0.9433 - val_loss: 0.2493 - val_accuracy: 0.9990 - 767ms/epoch - 3ms/step\n",
      "Epoch 14/20\n",
      "306/306 - 1s - loss: 0.4992 - accuracy: 0.9531 - val_loss: 0.2057 - val_accuracy: 0.9990 - 733ms/epoch - 2ms/step\n",
      "Epoch 15/20\n",
      "306/306 - 1s - loss: 0.4597 - accuracy: 0.9541 - val_loss: 0.1722 - val_accuracy: 0.9990 - 781ms/epoch - 3ms/step\n",
      "Epoch 16/20\n",
      "306/306 - 1s - loss: 0.4267 - accuracy: 0.9546 - val_loss: 0.1459 - val_accuracy: 0.9990 - 848ms/epoch - 3ms/step\n",
      "Epoch 17/20\n",
      "306/306 - 1s - loss: 0.3942 - accuracy: 0.9556 - val_loss: 0.1244 - val_accuracy: 0.9990 - 883ms/epoch - 3ms/step\n",
      "Epoch 18/20\n",
      "306/306 - 1s - loss: 0.3681 - accuracy: 0.9574 - val_loss: 0.1080 - val_accuracy: 0.9990 - 754ms/epoch - 2ms/step\n",
      "Epoch 19/20\n",
      "306/306 - 1s - loss: 0.3365 - accuracy: 0.9632 - val_loss: 0.0942 - val_accuracy: 0.9990 - 745ms/epoch - 2ms/step\n",
      "Epoch 20/20\n",
      "306/306 - 1s - loss: 0.3153 - accuracy: 0.9675 - val_loss: 0.0838 - val_accuracy: 0.9990 - 747ms/epoch - 2ms/step\n"
     ]
    }
   ],
   "source": [
    "# Define learning rate\n",
    "learning_rate = 0.01\n",
    "\n",
    "# Compile the model\n",
    "model.compile(optimizer=tf.keras.optimizers.SGD(learning_rate=learning_rate), loss='sparse_categorical_crossentropy', metrics=['accuracy'])\n",
    "\n",
    "# Training the model with 20 epoch\n",
    "history = model.fit(X_train, y_train_encoded, epochs=20, batch_size=13, verbose=2, validation_data=(X_val, y_val_encoded))"
   ]
  },
  {
   "cell_type": "markdown",
   "id": "258be1c8",
   "metadata": {},
   "source": [
    "## E. Evaluate Model"
   ]
  },
  {
   "cell_type": "markdown",
   "id": "44401053",
   "metadata": {},
   "source": [
    "Model evaluation is the final process in model building. This step can show how well the model performs and how the model performs each epoch."
   ]
  },
  {
   "cell_type": "markdown",
   "id": "63487e38",
   "metadata": {},
   "source": [
    "### i. Evaluate the model to see performance model.\n",
    "\n",
    "In this scope, the evaluation to know how well model performance on the **training set**, **validation set**, and **testing set**. In the evaluation results between training data and validation data, the results are **close together**, indicating no overfitting and also the test data results show the model's performance is very good in predicting using `evaluate` method."
   ]
  },
  {
   "cell_type": "code",
   "execution_count": 65,
   "id": "4c3690d5",
   "metadata": {},
   "outputs": [
    {
     "name": "stdout",
     "output_type": "stream",
     "text": [
      "Metrics train:\n",
      "\tAccuracy score: 0.9675\n",
      "Metrics validation:\n",
      "\tAccuracy score: 0.9990\n",
      "2/2 [==============================] - 0s 15ms/step - loss: 0.3649 - accuracy: 0.9512\n",
      "Metrics test:\n",
      "\tAccuracy score: 0.9512\n"
     ]
    }
   ],
   "source": [
    "# Evaluate model with training set\n",
    "accuracy_epoch_20 = history.history['accuracy'][19]\n",
    "print(f\"Metrics train:\\n\\tAccuracy score: {accuracy_epoch_20:.4f}\")\n",
    "\n",
    "# Evaluate model with validation set\n",
    "val_accuracy_epoch_20 = history.history['val_accuracy'][19]\n",
    "print(f\"Metrics validation:\\n\\tAccuracy score: {val_accuracy_epoch_20:.4f}\")\n",
    "\n",
    "# Evaluate model with test set\n",
    "test_loss, test_accuracy = model.evaluate(X_test, y_test_encoded)\n",
    "print(f\"Metrics test:\\n\\tAccuracy score: {test_accuracy:.4f}\")"
   ]
  },
  {
   "cell_type": "markdown",
   "id": "b68fd313",
   "metadata": {},
   "source": [
    "### ii. Plot the accuracy\n",
    "Plot the accuracy of the model in the epoch. The plot is the accuracy of both the train set and validation set data. After that, look at the graph. If the graph shows continue increase at each epoch, then the model is well-fit.\n",
    "\n",
    "In this case, the graph shows the both training and validation accuracy is increasing. That mean the model is well-fit."
   ]
  },
  {
   "cell_type": "code",
   "execution_count": 49,
   "id": "66d96f05",
   "metadata": {},
   "outputs": [],
   "source": [
    "# Define variables to save accuracy and loss \n",
    "train_accuracy = history.history['accuracy']\n",
    "val_accuracy = history.history['val_accuracy']\n",
    "train_loss = history.history['loss']\n",
    "val_loss = history.history['val_loss']\n",
    "# Define variables to get len of epoch based on accuracy\n",
    "epochs = range(1, len(train_accuracy) + 1)"
   ]
  },
  {
   "cell_type": "code",
   "execution_count": 47,
   "id": "67908e2e",
   "metadata": {},
   "outputs": [
    {
     "data": {
      "image/png": "[encoded data removed]",
      "text/plain": [
       "<Figure size 640x480 with 1 Axes>"
      ]
     },
     "metadata": {},
     "output_type": "display_data"
    }
   ],
   "source": [
    "plt.plot(epochs, train_accuracy, 'b', label='Training Accuracy')\n",
    "plt.plot(epochs, val_accuracy, 'r', label='Validation Accuracy')\n",
    "plt.title('Training and Validation Accuracy')\n",
    "plt.xlabel('Epochs')\n",
    "plt.ylabel('Accuracy')\n",
    "plt.legend()\n",
    "plt.show()"
   ]
  },
  {
   "cell_type": "markdown",
   "id": "14e2917a",
   "metadata": {},
   "source": [
    "### iii. Plot the loss\n",
    "Plot the loss of the model in the epoch. The plot is the loss of both the train set and validation set data. After that, look at the graph. The graph should continue decrease at each epoch, then the model is well-fit.\n",
    "\n",
    "In this case, the graph shows the both training and validation loss is decreasing. That mean the model is well-fit."
   ]
  },
  {
   "cell_type": "code",
   "execution_count": 50,
   "id": "c7e76efc",
   "metadata": {},
   "outputs": [
    {
     "data": {
      "image/png": "[encoded data removed]",
      "text/plain": [
       "<Figure size 640x480 with 1 Axes>"
      ]
     },
     "metadata": {},
     "output_type": "display_data"
    }
   ],
   "source": [
    "plt.plot(epochs, train_loss, 'b', label='Training Loss')\n",
    "plt.plot(epochs, val_loss, 'r', label='Validation Loss')\n",
    "plt.title('Training and Validation Loss')\n",
    "plt.xlabel('Epochs')\n",
    "plt.ylabel('Loss')\n",
    "plt.legend()\n",
    "plt.show()"
   ]
  },
  {
   "cell_type": "markdown",
   "id": "03cf0b07",
   "metadata": {},
   "source": [
    "### iv. Evaluate with Classification Report\n",
    "In the classification report, there are generally several evaluation metrics presented for each class, including:\n",
    "- Precision: Precision measures the extent to which the positive predictions made by the model are correct. In the context of classification, precision describes the percentage of correct predictions (True Positive) compared to the number of positive predictions (True Positive + False Positive). A high precision indicates that the model is less likely to classify negative samples as positive.\n",
    "\n",
    "- Recall: Recall (sensitivity) measures the extent to which the model can correctly identify all positive samples present. In the context of classification, recall describes the percentage of correct predictions (True Positive) compared to the actual number of positive samples (True Positive + False Negative). A high recall indicates that the model has a good ability to accurately classify positive samples.\n",
    "\n",
    "- F1-score: F1-score is a combination of precision and recall, which provides a balanced measure between the two metrics. F1-score is calculated as the harmonic mean of precision and recall. A high F1-score indicates a good balance between precision and recall, so the model is able to provide good classification overall.\n",
    "\n",
    "- Support: Support indicates the number of samples present in each class. It provides information about the distribution of the data and how balanced the classes are.\n",
    "\n",
    "In addition to the above metrics, classification reports can also include other metrics such as overall accuracy, as well as averages of these metrics, such as macro average and weighted average, which give an idea of the overall performance of the model."
   ]
  },
  {
   "cell_type": "code",
   "execution_count": 55,
   "id": "a00f3e72",
   "metadata": {},
   "outputs": [
    {
     "name": "stdout",
     "output_type": "stream",
     "text": [
      "32/32 [==============================] - 0s 2ms/step\n",
      "32/32 [==============================] - 0s 2ms/step\n",
      "                                precision    recall  f1-score   support\n",
      "\n",
      "                          AIDS       1.00      1.00      1.00        20\n",
      "                        Alergi       1.00      1.00      1.00        29\n",
      "                      Artritis       1.00      1.00      1.00        24\n",
      "                 Asma Bronkial       1.00      1.00      1.00        30\n",
      "                     Cacar air       1.00      1.00      1.00        27\n",
      "                Demam berdarah       1.00      1.00      1.00        28\n",
      "                      Diabetes       1.00      1.00      1.00        30\n",
      "                          GERD       1.00      1.00      1.00        25\n",
      "               Gastroenteritis       1.00      1.00      1.00        18\n",
      "   Hemoroid dimorfik (ambeien)       1.00      1.00      1.00        31\n",
      "                   Hepatitis A       1.00      1.00      1.00        21\n",
      "           Hepatitis Alkoholik       1.00      1.00      1.00        26\n",
      "                   Hepatitis B       1.00      1.00      1.00        29\n",
      "                   Hepatitis C       1.00      1.00      1.00        26\n",
      "                   Hepatitis D       1.00      1.00      1.00        29\n",
      "                   Hepatitis E       1.00      1.00      1.00        19\n",
      "                    Hipertensi       1.00      0.96      0.98        26\n",
      "               Hipertiroidisme       1.00      1.00      1.00        15\n",
      "                  Hipoglikemia       1.00      1.00      1.00        27\n",
      "                Hipotiroidisme       1.00      1.00      1.00        17\n",
      "                      Impetigo       1.00      1.00      1.00        16\n",
      "                 Infeksi jamur       1.00      1.00      1.00        23\n",
      "         Infeksi saluran kemih       1.00      1.00      1.00        20\n",
      "                       Jerawat       1.00      1.00      1.00        33\n",
      "             Kolestasis kronis       1.00      1.00      1.00        22\n",
      "      Kuning (penyakit kuning)       1.00      1.00      1.00        27\n",
      "                       Malaria       1.00      1.00      1.00        23\n",
      "                      Migraine       1.00      1.00      1.00        27\n",
      "                 Osteoartritis       1.00      1.00      1.00        21\n",
      "   Paralisis (pendarahan otak)       1.00      1.00      1.00        23\n",
      "       Penyakit ulkus peptikum       1.00      1.00      1.00        25\n",
      "                   Pilek biasa       1.00      1.00      1.00        25\n",
      "                     Pneumonia       1.00      1.00      1.00        23\n",
      "                     Psoriasis       1.00      1.00      1.00        19\n",
      "                   Reaksi obat       1.00      1.00      1.00        27\n",
      "              Serangan jantung       1.00      1.00      1.00        21\n",
      "           Spondilosis Serviks       1.00      1.00      1.00        21\n",
      "                  Tuberculosis       1.00      1.00      1.00        22\n",
      "                         Typus       1.00      1.00      1.00        24\n",
      "                       Varises       1.00      1.00      1.00        27\n",
      "Vertigo Posisional Paroksismal       0.96      1.00      0.98        27\n",
      "\n",
      "                      accuracy                           1.00       993\n",
      "                     macro avg       1.00      1.00      1.00       993\n",
      "                  weighted avg       1.00      1.00      1.00       993\n",
      "\n"
     ]
    }
   ],
   "source": [
    "# Get name label based index\n",
    "label_names = label_encoder.classes_\n",
    "\n",
    "# Predict with validation set\n",
    "y_pred = model.predict(X_val)\n",
    "y_pred = np.argmax(model.predict(X_val), axis=-1)\n",
    "\n",
    "# Print classification report\n",
    "report = classification_report(y_val_encoded, y_pred, target_names=label_names)\n",
    "print(report)"
   ]
  },
  {
   "cell_type": "markdown",
   "id": "b5809c21",
   "metadata": {},
   "source": [
    "In this case, The model performed very well in classifying each class with a `precision`, `recall`, and `F1-score` of **1**. Can be concluded that the trained model has an excellent ability to classify various diseases with high accuracy. The model is able to learn relevant patterns from the training data and apply them well to the test data."
   ]
  },
  {
   "cell_type": "markdown",
   "id": "277a3e76",
   "metadata": {},
   "source": [
    "## F. Save Model\n",
    "Save the best model into .hdf5 for re-training or just load to make some prediction with the model."
   ]
  },
  {
   "cell_type": "code",
   "execution_count": 57,
   "id": "b636a61c",
   "metadata": {},
   "outputs": [],
   "source": [
    "filepath = \"Model h5/model.h5\"\n",
    "model.save(filepath)"
   ]
  },
  {
   "cell_type": "markdown",
   "id": "92bfc14b",
   "metadata": {},
   "source": [
    "## G. Conclusion\n",
    "Based on evaluation model (from `model.evaluate` method, the graph, and the `classification report`) the model made very well-fit with accuracy **96.75%**, validation **99.90%**, and test **95.12%**. So we can used the model to predict well."
   ]
  },
  {
   "cell_type": "code",
   "execution_count": null,
   "id": "c64a3773",
   "metadata": {},
   "outputs": [],
   "source": []
  }
 ],
 "metadata": {
  "kernelspec": {
   "display_name": "Python 3 (ipykernel)",
   "language": "python",
   "name": "python3"
  },
  "language_info": {
   "codemirror_mode": {
    "name": "ipython",
    "version": 3
   },
   "file_extension": ".py",
   "mimetype": "text/x-python",
   "name": "python",
   "nbconvert_exporter": "python",
   "pygments_lexer": "ipython3",
   "version": "3.10.9"
  }
 },
 "nbformat": 4,
 "nbformat_minor": 5
}
